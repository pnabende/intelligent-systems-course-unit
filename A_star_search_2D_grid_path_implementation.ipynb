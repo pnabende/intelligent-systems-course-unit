{
  "nbformat": 4,
  "nbformat_minor": 0,
  "metadata": {
    "colab": {
      "provenance": [],
      "authorship_tag": "ABX9TyMjs8ASbMW2VztfiBa+VRBQ",
      "include_colab_link": true
    },
    "kernelspec": {
      "name": "python3",
      "display_name": "Python 3"
    },
    "language_info": {
      "name": "python"
    }
  },
  "cells": [
    {
      "cell_type": "markdown",
      "metadata": {
        "id": "view-in-github",
        "colab_type": "text"
      },
      "source": [
        "<a href=\"https://colab.research.google.com/github/pnabende/intelligent-systems-course-unit/blob/main/A_star_search_2D_grid_path_implementation.ipynb\" target=\"_parent\"><img src=\"https://colab.research.google.com/assets/colab-badge.svg\" alt=\"Open In Colab\"/></a>"
      ]
    },
    {
      "cell_type": "markdown",
      "source": [
        "### **A simple Implementation of A-star search to find the shortest path on a 2D grid. It assumes a grid with open spaces (0) and obstacles (1)**"
      ],
      "metadata": {
        "id": "on-__f7-zCZy"
      }
    },
    {
      "cell_type": "markdown",
      "source": [
        "**Imports**\n",
        "*   numpy - used for numerical operations and for creating and manipulating the grid as an array\n",
        "*   heapq - a heap queue algorithm, also known as a priority queue algorithm. It's used to fetch the node with the lowest cost during A-star search\n",
        "*   matplotlib.pyplot - used for visualization.\n",
        "*   random - used to randomly place obstacles on the grid.\n",
        "\n",
        "\n",
        "\n",
        "\n"
      ],
      "metadata": {
        "id": "dnEddNPFuioY"
      }
    },
    {
      "cell_type": "code",
      "source": [
        "import numpy as np\n",
        "import heapq\n",
        "import matplotlib.pyplot as plt\n",
        "import random"
      ],
      "metadata": {
        "id": "GUPsbtuBjts5"
      },
      "execution_count": 8,
      "outputs": []
    },
    {
      "cell_type": "markdown",
      "source": [
        "**Grid definition**"
      ],
      "metadata": {
        "id": "uMiifTFPv8kJ"
      }
    },
    {
      "cell_type": "code",
      "source": [
        "GRID_SIZE = 40"
      ],
      "metadata": {
        "id": "NEgcZvAKwAe_"
      },
      "execution_count": null,
      "outputs": []
    },
    {
      "cell_type": "markdown",
      "source": [
        "**Node class**\n",
        "\n",
        "This class defines a node used in the A-star search algorithm.\n",
        "\n",
        "*   x, y: are the actual coordinates of the node on the grid.\n",
        "*   cost: is the actual cost from the start node to this node.\n",
        "*   heuristic: the estimated cost from this node to the goal."
      ],
      "metadata": {
        "id": "m4ApBM_av5Pu"
      }
    },
    {
      "cell_type": "code",
      "source": [
        "class Node:\n",
        "    def __init__(self, x, y, cost, heuristic):\n",
        "        self.x = x\n",
        "        self.y = y\n",
        "        self.cost = cost\n",
        "        self.heuristic = heuristic\n",
        "\n",
        "    def __lt__(self, other):\n",
        "        return (self.cost + self.heuristic) < (other.cost + other.heuristic)\n"
      ],
      "metadata": {
        "id": "zMJ9c6RujxEk"
      },
      "execution_count": 9,
      "outputs": []
    },
    {
      "cell_type": "markdown",
      "source": [
        "**A-star heuristic function**\n",
        "\n",
        "This function calculates the Manhattan distance between two points. This heuristic is admissible and works well for a grid where we can move horizontally and vertically."
      ],
      "metadata": {
        "id": "79PpQoZqwsKl"
      }
    },
    {
      "cell_type": "code",
      "source": [
        "def heuristic(a, b):\n",
        "    return abs(a[0] - b[0]) + abs(a[1] - b[1])"
      ],
      "metadata": {
        "id": "d8Gj9IG7j0bZ"
      },
      "execution_count": 10,
      "outputs": []
    },
    {
      "cell_type": "markdown",
      "source": [
        "**A-star search algorithm**\n",
        "\n",
        "This function implements the A-star search algorithm:\n",
        "\n",
        "*   The function uses a priority queue (**heapq**) to always pick the next node with the lowest cost + heuristic.\n",
        "*   **came_from** is a dictionary to backtrack from the goal to find the path.\n",
        "*   **g_score** holds the shortest known distance to every node from the start node."
      ],
      "metadata": {
        "id": "L4C-5GG_w7Qt"
      }
    },
    {
      "cell_type": "code",
      "source": [
        "def astar(grid, start, goal):\n",
        "    open_set = []\n",
        "    heapq.heappush(open_set, Node(start[0], start[1], 0, heuristic(start, goal)))\n",
        "    came_from = {}\n",
        "    g_score = {(x, y): float('inf') for x in range(GRID_SIZE) for y in range(GRID_SIZE)}\n",
        "    g_score[start] = 0\n",
        "\n",
        "    while open_set:\n",
        "        current = heapq.heappop(open_set)\n",
        "\n",
        "        if (current.x, current.y) == goal:\n",
        "            path = []\n",
        "            while (current.x, current.y) in came_from:\n",
        "                path.append((current.x, current.y))\n",
        "                current.x, current.y = came_from[(current.x, current.y)]\n",
        "            path.append(start)\n",
        "            return path[::-1]\n",
        "\n",
        "        for dx, dy in [(1,0), (-1,0), (0,1), (0,-1)]:\n",
        "            neighbor_x, neighbor_y = current.x + dx, current.y + dy\n",
        "\n",
        "            if 0 <= neighbor_x < GRID_SIZE and 0 <= neighbor_y < GRID_SIZE and grid[neighbor_x][neighbor_y] == 0:\n",
        "                tentative_g_score = g_score[(current.x, current.y)] + 1\n",
        "                if tentative_g_score < g_score[(neighbor_x, neighbor_y)]:\n",
        "                    came_from[(neighbor_x, neighbor_y)] = (current.x, current.y)\n",
        "                    g_score[(neighbor_x, neighbor_y)] = tentative_g_score\n",
        "                    heapq.heappush(open_set, Node(neighbor_x, neighbor_y, tentative_g_score, heuristic((neighbor_x, neighbor_y), goal)))\n",
        "\n",
        "    return []\n"
      ],
      "metadata": {
        "id": "M2NhMYwZj24v"
      },
      "execution_count": 11,
      "outputs": []
    },
    {
      "cell_type": "markdown",
      "source": [
        "**Visualization function**\n",
        "\n",
        "*   **imshow** shows the grid with obstacles.\n",
        "*   The path, if it exists, is plotted with blue dots using **scatter**\n"
      ],
      "metadata": {
        "id": "jUA9yDkmx_Q3"
      }
    },
    {
      "cell_type": "code",
      "source": [
        "def visualize(grid, path):\n",
        "    fig, ax = plt.subplots(figsize=(10, 10))\n",
        "\n",
        "    # Set the grid color\n",
        "    cmap = plt.get_cmap('gray_r')\n",
        "    ax.imshow(grid, cmap=cmap, origin='upper', extent=[0, GRID_SIZE, 0, GRID_SIZE])\n",
        "\n",
        "    # Plot the path in blue\n",
        "    for (x, y) in path:\n",
        "        rect = plt.Rectangle((y, GRID_SIZE-1-x), 1, 1, facecolor='blue')\n",
        "        ax.add_patch(rect)\n",
        "\n",
        "    # Plot start and end in green and red\n",
        "    rect = plt.Rectangle((start[1], GRID_SIZE-1-start[0]), 1, 1, facecolor='green')\n",
        "    ax.add_patch(rect)\n",
        "    rect = plt.Rectangle((goal[1], GRID_SIZE-1-goal[0]), 1, 1, facecolor='red')\n",
        "    ax.add_patch(rect)\n",
        "\n",
        "    plt.show()"
      ],
      "metadata": {
        "id": "5EmXaTO0j6UE"
      },
      "execution_count": 21,
      "outputs": []
    },
    {
      "cell_type": "markdown",
      "source": [
        "Main execution"
      ],
      "metadata": {
        "id": "0xyX_9PXyU6_"
      }
    },
    {
      "cell_type": "code",
      "source": [
        "grid = np.zeros((GRID_SIZE, GRID_SIZE)) # the grid is initialized with zeros (open spaces)\n",
        "\n",
        "#(150 obstacles are randomly placed on the grid.)\n",
        "for _ in range(150):\n",
        "    grid[random.randint(0, GRID_SIZE-1)][random.randint(0, GRID_SIZE-1)] = 1\n",
        "\n"
      ],
      "metadata": {
        "id": "XNZCQmmoj9GY"
      },
      "execution_count": 24,
      "outputs": []
    },
    {
      "cell_type": "code",
      "source": [
        "# the start is the top-left corner, and the goal is the bottom-right corner.\n",
        "start = (0, 0)\n",
        "goal = (GRID_SIZE-1, GRID_SIZE-1)\n",
        "\n",
        "# the path is calculated using the A-star algorithm and printed.\n",
        "path = astar(grid, start, goal)\n",
        "print(\"Generated path:\", path)\n",
        "\n",
        "# the grid, obstacles, and path are visualized.\n",
        "visualize(grid, path)\n"
      ],
      "metadata": {
        "colab": {
          "base_uri": "https://localhost:8080/",
          "height": 747
        },
        "id": "vsTa0BREj-7t",
        "outputId": "fe8f9a6f-a824-48fd-ed47-5d9bdb4489a6"
      },
      "execution_count": 25,
      "outputs": [
        {
          "output_type": "stream",
          "name": "stdout",
          "text": [
            "Generated path: [(0, 0), (1, 0), (2, 0), (3, 0), (3, 1), (3, 2), (4, 2), (4, 3), (4, 4), (4, 5), (4, 6), (4, 7), (4, 8), (4, 9), (4, 10), (4, 11), (4, 12), (5, 12), (5, 13), (6, 13), (6, 14), (6, 15), (6, 16), (6, 17), (6, 18), (6, 19), (6, 20), (7, 20), (8, 20), (8, 21), (8, 22), (8, 23), (8, 24), (8, 25), (8, 26), (9, 26), (10, 26), (11, 26), (12, 26), (12, 27), (13, 27), (14, 27), (14, 28), (15, 28), (16, 28), (17, 28), (17, 29), (18, 29), (18, 30), (19, 30), (19, 31), (19, 32), (20, 32), (21, 32), (22, 32), (23, 32), (24, 32), (25, 32), (26, 32), (27, 32), (28, 32), (29, 32), (30, 32), (31, 32), (32, 32), (33, 32), (33, 33), (33, 34), (34, 34), (35, 34), (36, 34), (36, 35), (37, 35), (38, 35), (38, 36), (39, 36), (39, 37), (39, 38), (39, 39)]\n"
          ]
        },
        {
          "output_type": "display_data",
          "data": {
            "text/plain": [
              "<Figure size 1000x1000 with 1 Axes>"
            ],
            "image/png": "[encoded data removed]"
          },
          "metadata": {}
        }
      ]
    }
  ]
}