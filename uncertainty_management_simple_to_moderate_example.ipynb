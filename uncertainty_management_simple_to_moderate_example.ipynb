{
  "nbformat": 4,
  "nbformat_minor": 0,
  "metadata": {
    "colab": {
      "provenance": [],
      "authorship_tag": "ABX9TyPrpyAEloz8KD5czFUQjrPC",
      "include_colab_link": true
    },
    "kernelspec": {
      "name": "python3",
      "display_name": "Python 3"
    },
    "language_info": {
      "name": "python"
    }
  },
  "cells": [
    {
      "cell_type": "markdown",
      "metadata": {
        "id": "view-in-github",
        "colab_type": "text"
      },
      "source": [
        "<a href=\"https://colab.research.google.com/github/pnabende/intelligent-systems-course-unit/blob/main/uncertainty_management_simple_to_moderate_example.ipynb\" target=\"_parent\"><img src=\"https://colab.research.google.com/assets/colab-badge.svg\" alt=\"Open In Colab\"/></a>"
      ]
    },
    {
      "cell_type": "code",
      "execution_count": 1,
      "metadata": {
        "id": "SKfRuHUnAQVI"
      },
      "outputs": [],
      "source": [
        "import operator"
      ]
    },
    {
      "cell_type": "code",
      "source": [
        "class Fact:\n",
        "    def __init__(self, statement, certainty):\n",
        "        self.statement = statement\n",
        "        self.certainty = certainty"
      ],
      "metadata": {
        "id": "M8FAITGWvWzQ"
      },
      "execution_count": 2,
      "outputs": []
    },
    {
      "cell_type": "code",
      "source": [
        "class Rule:\n",
        "    def __init__(self, conditions, conclusion, certainty):\n",
        "        self.conditions = conditions  # List of facts\n",
        "        self.conclusion = conclusion  # Single fact\n",
        "        self.certainty = certainty\n",
        "\n",
        "    def applies(self, facts):\n",
        "        for cond in self.conditions:\n",
        "            # Check if the condition is in the facts provided.\n",
        "            applicable = False\n",
        "            for fact in facts:\n",
        "                if fact.statement == cond.statement and fact.certainty >= cond.certainty:\n",
        "                    applicable = True\n",
        "                    break\n",
        "            if not applicable:\n",
        "                return False\n",
        "        return True"
      ],
      "metadata": {
        "id": "_qJMJgLgvduZ"
      },
      "execution_count": 3,
      "outputs": []
    },
    {
      "cell_type": "code",
      "source": [
        "class KnowledgeBase:\n",
        "    def __init__(self):\n",
        "        self.rules = []\n",
        "\n",
        "    def add_rule(self, rule):\n",
        "        self.rules.append(rule)\n",
        "\n",
        "class InferenceEngine:\n",
        "    def __init__(self, knowledge_base):\n",
        "        self.kb = knowledge_base\n",
        "\n",
        "    def infer(self, facts):\n",
        "        conclusions = []\n",
        "        for rule in self.kb.rules:\n",
        "            if rule.applies(facts):\n",
        "                # A simple way to combine certainty factors\n",
        "                total_certainty = min([fact.certainty for fact in rule.conditions] + [rule.certainty])\n",
        "                conclusions.append(Fact(rule.conclusion.statement, total_certainty))\n",
        "        return conclusions\n",
        "\n"
      ],
      "metadata": {
        "id": "yHOPq7snAXEI"
      },
      "execution_count": 4,
      "outputs": []
    },
    {
      "cell_type": "code",
      "source": [
        "class ExpertSystem:\n",
        "    def __init__(self):\n",
        "        self.kb = KnowledgeBase()\n",
        "        self.engine = InferenceEngine(self.kb)\n",
        "\n",
        "    def add_knowledge(self, rule):\n",
        "        self.kb.add_rule(rule)\n",
        "\n",
        "    def assess_situation(self, facts):\n",
        "        return self.engine.infer(facts)\n",
        "\n",
        "    def query_system(self):\n",
        "        # Collect facts from the user\n",
        "        facts = []\n",
        "        while True:\n",
        "            statement = input(\"Enter a known fact (or 'done' to finish): \")\n",
        "            if statement == 'done':\n",
        "                break\n",
        "            certainty = float(input(f\"Enter certainty for '{statement}' (0.0 to 1.0): \"))\n",
        "            facts.append(Fact(statement, certainty))\n",
        "\n",
        "        # Infer and display conclusions\n",
        "        conclusions = self.assess_situation(facts)\n",
        "        if conclusions:\n",
        "            print(\"\\nConclusions:\")\n",
        "            for conclusion in conclusions:\n",
        "                print(f\"- {conclusion.statement} (certainty: {conclusion.certainty})\")\n",
        "        else:\n",
        "            print(\"\\nNo conclusions could be drawn from the given facts.\")\n"
      ],
      "metadata": {
        "id": "O-ZoTE2ZvuTp"
      },
      "execution_count": 5,
      "outputs": []
    },
    {
      "cell_type": "code",
      "source": [
        "# Usage\n",
        "system = ExpertSystem()"
      ],
      "metadata": {
        "id": "UbWu7h1Ss4fC"
      },
      "execution_count": 6,
      "outputs": []
    },
    {
      "cell_type": "code",
      "source": [
        "# Define and add some rules to the knowledge base\n",
        "rule1 = Rule(\n",
        "    conditions=[Fact(\"temperature is high\", 0.8), Fact(\"patient is sweating\", 0.6)],\n",
        "    conclusion=Fact(\"the patient has a fever\", 0.9),\n",
        "    certainty=0.9\n",
        ")\n",
        "system.add_knowledge(rule1)\n",
        "\n",
        "rule2 = Rule(\n",
        "    conditions=[Fact(\"patient has rash\", 0.6), Fact(\"temperature is high\", 0.7)],\n",
        "    conclusion=Fact(\"the patient has measles\", 0.85),\n",
        "    certainty=0.85\n",
        ")\n",
        "system.add_knowledge(rule2)"
      ],
      "metadata": {
        "id": "ZicNTbo2v1ka"
      },
      "execution_count": 7,
      "outputs": []
    },
    {
      "cell_type": "code",
      "source": [
        "# Query the system based on user input\n",
        "system.query_system()"
      ],
      "metadata": {
        "colab": {
          "base_uri": "https://localhost:8080/"
        },
        "id": "ScGFedTFv6Xz",
        "outputId": "3936629d-5fe8-4501-fa0a-f2592dd18d35"
      },
      "execution_count": 8,
      "outputs": [
        {
          "output_type": "stream",
          "name": "stdout",
          "text": [
            "Enter a known fact (or 'done' to finish): the patient has a fever\n",
            "Enter certainty for 'the patient has a fever' (0.0 to 1.0): 0.7\n",
            "Enter a known fact (or 'done' to finish): done\n",
            "\n",
            "No conclusions could be drawn from the given facts.\n"
          ]
        }
      ]
    }
  ]
}