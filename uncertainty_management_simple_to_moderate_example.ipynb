{
  "nbformat": 4,
  "nbformat_minor": 0,
  "metadata": {
    "colab": {
      "provenance": [],
      "authorship_tag": "ABX9TyOETpQczrse4wx/tg1uSbC2",
      "include_colab_link": true
    },
    "kernelspec": {
      "name": "python3",
      "display_name": "Python 3"
    },
    "language_info": {
      "name": "python"
    }
  },
  "cells": [
    {
      "cell_type": "markdown",
      "metadata": {
        "id": "view-in-github",
        "colab_type": "text"
      },
      "source": [
        "<a href=\"https://colab.research.google.com/github/pnabende/intelligent-systems-course-unit/blob/main/uncertainty_management_simple_to_moderate_example.ipynb\" target=\"_parent\"><img src=\"https://colab.research.google.com/assets/colab-badge.svg\" alt=\"Open In Colab\"/></a>"
      ]
    },
    {
      "cell_type": "markdown",
      "source": [
        "**Import package**"
      ],
      "metadata": {
        "id": "PoEqoNv_y3YP"
      }
    },
    {
      "cell_type": "code",
      "execution_count": 1,
      "metadata": {
        "id": "SKfRuHUnAQVI"
      },
      "outputs": [],
      "source": [
        "import operator"
      ]
    },
    {
      "cell_type": "markdown",
      "source": [
        "**Define several classes**"
      ],
      "metadata": {
        "id": "YqLNgPDyy9wU"
      }
    },
    {
      "cell_type": "code",
      "source": [
        "class Fact:\n",
        "    def __init__(self, statement, certainty):\n",
        "        self.statement = statement.lower()  # Normalize the statement\n",
        "        self.certainty = certainty\n",
        "\n",
        "    def __eq__(self, other):\n",
        "        # This will help in comparing two facts based on their statements.\n",
        "        return self.statement == other.statement\n",
        "\n",
        "    def __hash__(self):\n",
        "        return hash(self.statement)"
      ],
      "metadata": {
        "id": "M8FAITGWvWzQ"
      },
      "execution_count": 2,
      "outputs": []
    },
    {
      "cell_type": "code",
      "source": [
        "class Rule:\n",
        "    def __init__(self, conditions, conclusion, certainty):\n",
        "        self.conditions = conditions\n",
        "        self.conclusion = conclusion\n",
        "        self.certainty = certainty\n",
        "\n",
        "    def applies(self, facts):\n",
        "        for cond in self.conditions:\n",
        "            if cond not in facts:\n",
        "                return False\n",
        "        return True"
      ],
      "metadata": {
        "id": "_qJMJgLgvduZ"
      },
      "execution_count": 3,
      "outputs": []
    },
    {
      "cell_type": "code",
      "source": [
        "class KnowledgeBase:\n",
        "    def __init__(self):\n",
        "        self.rules = []\n",
        "\n",
        "    def add_rule(self, rule):\n",
        "        self.rules.append(rule)\n",
        "\n",
        "class InferenceEngine:\n",
        "    def __init__(self, knowledge_base):\n",
        "        self.kb = knowledge_base\n",
        "\n",
        "    def infer(self, facts):\n",
        "        conclusions = []\n",
        "        for rule in self.kb.rules:\n",
        "            if rule.applies(facts):\n",
        "                # A simple way to combine certainty factors\n",
        "                total_certainty = min([fact.certainty for fact in rule.conditions] + [rule.certainty])\n",
        "                conclusions.append(Fact(rule.conclusion.statement, total_certainty))\n",
        "        return conclusions\n",
        "\n"
      ],
      "metadata": {
        "id": "yHOPq7snAXEI"
      },
      "execution_count": 4,
      "outputs": []
    },
    {
      "cell_type": "code",
      "source": [
        "class InferenceEngine:\n",
        "    def __init__(self, knowledge_base):\n",
        "        self.kb = knowledge_base\n",
        "\n",
        "    def infer(self, facts):\n",
        "        conclusions = []\n",
        "        for rule in self.kb.rules:\n",
        "            if rule.applies(facts):\n",
        "                # Combining certainty: rule's certainty * minimum certainty among rule's conditions\n",
        "                total_certainty = rule.certainty * min([fact.certainty for fact in facts if fact in rule.conditions])\n",
        "                conclusions.append(Fact(rule.conclusion.statement, total_certainty))\n",
        "        return conclusions"
      ],
      "metadata": {
        "id": "LZQYzSjMydNt"
      },
      "execution_count": 5,
      "outputs": []
    },
    {
      "cell_type": "code",
      "source": [
        "class ExpertSystem:\n",
        "    def __init__(self):\n",
        "        self.kb = KnowledgeBase()\n",
        "        self.engine = InferenceEngine(self.kb)\n",
        "\n",
        "    def add_knowledge(self, rule):\n",
        "        self.kb.add_rule(rule)\n",
        "\n",
        "    def assess_situation(self, facts):\n",
        "        return self.engine.infer(facts)\n",
        "\n",
        "    def query_system(self):\n",
        "        # Collect facts from the user\n",
        "        facts = []\n",
        "        while True:\n",
        "            statement = input(\"Enter a known fact (or 'done' to finish): \")\n",
        "            if statement == 'done':\n",
        "                break\n",
        "            certainty = float(input(f\"Enter certainty for '{statement}' (0.0 to 1.0): \"))\n",
        "            facts.append(Fact(statement, certainty))\n",
        "\n",
        "        # Infer and display conclusions\n",
        "        conclusions = self.assess_situation(facts)\n",
        "        if conclusions:\n",
        "            print(\"\\nConclusions:\")\n",
        "            for conclusion in conclusions:\n",
        "                print(f\"- {conclusion.statement} (certainty: {conclusion.certainty})\")\n",
        "        else:\n",
        "            print(\"\\nNo conclusions could be drawn from the given facts.\")\n"
      ],
      "metadata": {
        "id": "H9vsasbrzN4K"
      },
      "execution_count": 6,
      "outputs": []
    },
    {
      "cell_type": "code",
      "source": [
        "def main():\n",
        "    system = ExpertSystem()\n",
        "\n",
        "    # Define and add some rules to the knowledge base\n",
        "    rule1 = Rule(\n",
        "        conditions=[Fact(\"temperature is high\", 0.5), Fact(\"patient is sweating\", 0.5)],  # Reduced certainty requirement\n",
        "        conclusion=Fact(\"the patient has a fever\", 0.9),\n",
        "        certainty=0.9\n",
        "    )\n",
        "    system.add_knowledge(rule1)\n",
        "\n",
        "    rule2 = Rule(\n",
        "        conditions=[Fact(\"patient has rash\", 0.5), Fact(\"temperature is high\", 0.5)],  # Reduced certainty requirement\n",
        "        conclusion=Fact(\"the patient has measles\", 0.85),\n",
        "        certainty=0.85\n",
        "    )\n",
        "    system.add_knowledge(rule2)\n",
        "\n",
        "    # Query the system based on user input\n",
        "    system.query_system()"
      ],
      "metadata": {
        "id": "mSKDp9TbaiAX"
      },
      "execution_count": 7,
      "outputs": []
    },
    {
      "cell_type": "code",
      "source": [
        "if __name__ == \"__main__\":\n",
        "    main()"
      ],
      "metadata": {
        "id": "LUF2J1vaazUW",
        "outputId": "d8565c37-1768-460e-ac89-ae59725f070a",
        "colab": {
          "base_uri": "https://localhost:8080/"
        }
      },
      "execution_count": 9,
      "outputs": [
        {
          "output_type": "stream",
          "name": "stdout",
          "text": [
            "Enter a known fact (or 'done' to finish): temperature is high\n",
            "Enter certainty for 'temperature is high' (0.0 to 1.0): 0.7\n",
            "Enter a known fact (or 'done' to finish): patient is sweating\n",
            "Enter certainty for 'patient is sweating' (0.0 to 1.0): 0.5\n",
            "Enter a known fact (or 'done' to finish): patient has rash\n",
            "Enter certainty for 'patient has rash' (0.0 to 1.0): 0.2\n",
            "Enter a known fact (or 'done' to finish): done\n",
            "\n",
            "Conclusions:\n",
            "- the patient has a fever (certainty: 0.45)\n",
            "- the patient has measles (certainty: 0.17)\n"
          ]
        }
      ]
    }
  ]
}