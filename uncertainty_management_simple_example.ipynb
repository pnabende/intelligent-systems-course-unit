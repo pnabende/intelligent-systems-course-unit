{
  "nbformat": 4,
  "nbformat_minor": 0,
  "metadata": {
    "colab": {
      "provenance": [],
      "authorship_tag": "ABX9TyMYa3XCLSZzXVrCiHuyLubj",
      "include_colab_link": true
    },
    "kernelspec": {
      "name": "python3",
      "display_name": "Python 3"
    },
    "language_info": {
      "name": "python"
    }
  },
  "cells": [
    {
      "cell_type": "markdown",
      "metadata": {
        "id": "view-in-github",
        "colab_type": "text"
      },
      "source": [
        "<a href=\"https://colab.research.google.com/github/pnabende/intelligent-systems-course-unit/blob/main/uncertainty_management_simple_example.ipynb\" target=\"_parent\"><img src=\"https://colab.research.google.com/assets/colab-badge.svg\" alt=\"Open In Colab\"/></a>"
      ]
    },
    {
      "cell_type": "code",
      "execution_count": 1,
      "metadata": {
        "id": "SKfRuHUnAQVI"
      },
      "outputs": [],
      "source": [
        "import operator"
      ]
    },
    {
      "cell_type": "code",
      "source": [
        "class KnowledgeBase:\n",
        "    def __init__(self):\n",
        "        # A dictionary of facts/rules associated with their certainty factors\n",
        "        self.rules = {}\n",
        "\n",
        "    def add_rule(self, rule, cf):\n",
        "        \"\"\"\n",
        "        Add a rule with its certainty factor to the knowledge base.\n",
        "\n",
        "        rule: a string representing a rule (in a real system, this could be a more complex structure)\n",
        "        cf: certainty factor associated with the rule (between -1 and 1)\n",
        "        \"\"\"\n",
        "        self.rules[rule] = cf\n",
        "\n",
        "class InferenceEngine:\n",
        "    def __init__(self, knowledge_base):\n",
        "        self.kb = knowledge_base\n",
        "\n",
        "    def infer(self, evidence):\n",
        "        \"\"\"\n",
        "        Infer the certainty of conclusions based on the given evidence.\n",
        "\n",
        "        evidence: a dictionary of evidence pieces with their certainty factors\n",
        "        \"\"\"\n",
        "        conclusions = {}\n",
        "        for rule, cf in self.kb.rules.items():\n",
        "            # Check if the rule's conditions are satisfied by the evidence\n",
        "            for condition, ecf in evidence.items():\n",
        "                if condition in rule:\n",
        "                    # Combine the rule's certainty factor with the evidence's certainty factor\n",
        "                    combined_cf = cf * ecf  # This is a simplified combination. Actual methods might be more complex.\n",
        "                    conclusions[rule] = combined_cf\n",
        "\n",
        "        # Sort conclusions by certainty factor\n",
        "        sorted_conclusions = sorted(conclusions.items(), key=operator.itemgetter(1), reverse=True)\n",
        "        return sorted_conclusions\n",
        "\n",
        "class ExpertSystem:\n",
        "    def __init__(self):\n",
        "        self.kb = KnowledgeBase()\n",
        "        self.engine = InferenceEngine(self.kb)\n",
        "\n",
        "    def add_knowledge(self, rule, cf):\n",
        "        self.kb.add_rule(rule, cf)\n",
        "\n",
        "    def assess_situation(self, evidence):\n",
        "        results = self.engine.infer(evidence)\n",
        "        return results\n"
      ],
      "metadata": {
        "id": "yHOPq7snAXEI"
      },
      "execution_count": 2,
      "outputs": []
    },
    {
      "cell_type": "code",
      "source": [
        "system = ExpertSystem()"
      ],
      "metadata": {
        "id": "UbWu7h1Ss4fC"
      },
      "execution_count": 3,
      "outputs": []
    },
    {
      "cell_type": "code",
      "source": [
        "system.add_knowledge(\"If temperature is high then there might be a fever\", 0.8)\n",
        "system.add_knowledge(\"If coughing is present then there might be a respiratory condition\", 0.7)\n"
      ],
      "metadata": {
        "id": "OMOHB_X1s8_3"
      },
      "execution_count": 4,
      "outputs": []
    },
    {
      "cell_type": "code",
      "source": [
        "evidence = {\n",
        "    \"temperature is high\": 1,  # We are sure that the temperature is high\n",
        "    \"coughing is present\": 0.5,  # We are somewhat sure that the subject is coughing\n",
        "}"
      ],
      "metadata": {
        "id": "j4JiO8cwtEH_"
      },
      "execution_count": 5,
      "outputs": []
    },
    {
      "cell_type": "code",
      "source": [
        "conclusions = system.assess_situation(evidence)\n",
        "for conclusion, cf in conclusions:\n",
        "    print(f\"Conclusion: {conclusion} with certainty factor: {cf}\")"
      ],
      "metadata": {
        "colab": {
          "base_uri": "https://localhost:8080/"
        },
        "id": "0FX7f74-tHcS",
        "outputId": "28e1cbd5-63c5-4a80-af48-53ffb111cd55"
      },
      "execution_count": 6,
      "outputs": [
        {
          "output_type": "stream",
          "name": "stdout",
          "text": [
            "Conclusion: If temperature is high then there might be a fever with certainty factor: 0.8\n",
            "Conclusion: If coughing is present then there might be a respiratory condition with certainty factor: 0.35\n"
          ]
        }
      ]
    }
  ]
}